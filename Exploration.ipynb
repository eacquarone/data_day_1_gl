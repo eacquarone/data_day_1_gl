{
 "cells": [
  {
   "cell_type": "code",
   "execution_count": 200,
   "metadata": {},
   "outputs": [],
   "source": [
    "import pandas as pd\n",
    "import re\n",
    "import datetime\n",
    "import numpy as np"
   ]
  },
  {
   "cell_type": "code",
   "execution_count": 186,
   "metadata": {},
   "outputs": [
    {
     "data": {
      "text/plain": [
       "2611"
      ]
     },
     "execution_count": 186,
     "metadata": {},
     "output_type": "execute_result"
    }
   ],
   "source": [
    "test = datetime.datetime.now() - df.reset_index(drop=True).loc[0, \"DATE_Min_MARQUE\"]\n",
    "test.days"
   ]
  },
  {
   "cell_type": "code",
   "execution_count": 254,
   "metadata": {},
   "outputs": [
    {
     "data": {
      "text/plain": [
       "[(1, u'Indice_Nb_clients_marque'),\n",
       " (2, u'Indice_CA_marque'),\n",
       " (3, u'Tx_Promo_Indice_Marque'),\n",
       " (4, u'Indice_CA_marque_Encart\\xe9s'),\n",
       " (5, u'Indice_Pct_Encartes_marque'),\n",
       " (6, u'Indice_Nb_Encartes_marque'),\n",
       " (7, u'Indice_CA_moyen_marque'),\n",
       " (8, u'Indice_CA_moyen_marque_Encartes'),\n",
       " (9, u'Indice_Frequence_marque'),\n",
       " (10, u'Indice_PM_marque'),\n",
       " (11, u'Indice_Nb_art_par_clients_marque'),\n",
       " (12, u'Indice_Prix_moyen_art_marque'),\n",
       " (13, u'Ind_Val_clients_marque_glob'),\n",
       " (14, u'Ind_Val_clients_marque_FR'),\n",
       " (15, u'Ind_Val_clients_marque_Etr'),\n",
       " (16, u'Indice_Exclusivite_marque'),\n",
       " (17, u'Indice_Part_Etrangers_marque'),\n",
       " (18, u'Indice_Age_Encartes_marque'),\n",
       " (26, u'Indice_Nb_clients_groupe'),\n",
       " (27, u'Indice_CA_groupe'),\n",
       " (28, u'Tx_Promo_Indice_Secteur'),\n",
       " (29, u'Indice_CA_groupe_Encart\\xe9s'),\n",
       " (30, u'Indice_Pct_Encartes_groupe'),\n",
       " (31, u'Indice_Nb_Encartes_groupe'),\n",
       " (32, u'Indice_CA_moyen_groupe'),\n",
       " (33, u'Indice_CA_moyen_groupe_Encarte'),\n",
       " (34, u'Indice_Frequence_groupe'),\n",
       " (35, u'Indice_Frequence_groupe(marques)'),\n",
       " (36, u'Indice_PM_groupe'),\n",
       " (37, u'Indice_Nb_art_par_clients_groupe'),\n",
       " (38, u'Indice_Prix_moyen_art_groupe'),\n",
       " (39, u'Ind_Val_clients_groupe_global'),\n",
       " (40, u'Ind_Val_clients_groupe_FR'),\n",
       " (41, u'Ind_Val_clients_groupe_Etr'),\n",
       " (42, u'Indice_Exclusivite_groupe'),\n",
       " (43, u'Indice_Part_Etrangers_groupe'),\n",
       " (44, u'Indice_Age_Encartes_groupe')]"
      ]
     },
     "execution_count": 254,
     "metadata": {},
     "output_type": "execute_result"
    }
   ],
   "source": [
    "col_ind"
   ]
  },
  {
   "cell_type": "code",
   "execution_count": 215,
   "metadata": {},
   "outputs": [],
   "source": [
    "df = pd.read_excel(\"./SORTIE_MODELER_Matrices_marques_global_0118.xlsx\")"
   ]
  },
  {
   "cell_type": "code",
   "execution_count": 216,
   "metadata": {},
   "outputs": [],
   "source": [
    "df = df.set_index([\"LBL_FAM\", \"COD_FAM\", \"LBL_GRP_V2\"])\n",
    "N_cat = [\"Nb_magasins_N\", \"Nb_clients_marque\", \"CA_marque\", \"Tx_Promo_Marque_N\", \"CA_Encartes_marque\",\n",
    "        \"Pct_encartes_marque\", \"ENCARTE_marque\", \"\"]\n",
    "exclude = [\"DATE_Min_MARQUE\", ]"
   ]
  },
  {
   "cell_type": "code",
   "execution_count": 217,
   "metadata": {
    "scrolled": true
   },
   "outputs": [],
   "source": [
    "df =df.rename(index=unicode, columns={u\"Ind_Dél_moy_Marque_vs_sect_glob\": \"Ind_Del_moy_Marque_vs_sect_glob\",\n",
    "                              u\"Ind_Dél_moy_Marque_vs_sect_moy\": \"Ind_Del_moy_Marque_vs_sect_moy\"} )"
   ]
  },
  {
   "cell_type": "code",
   "execution_count": 243,
   "metadata": {},
   "outputs": [
    {
     "data": {
      "text/plain": [
       "60.0818171573991"
      ]
     },
     "execution_count": 243,
     "metadata": {},
     "output_type": "execute_result"
    }
   ],
   "source": [
    "df[\"Delais_moyen_Inter_achat_Marques\"][~df[\"Delais_moyen_Inter_achat_Marques\"].isna()].mean()"
   ]
  },
  {
   "cell_type": "code",
   "execution_count": 241,
   "metadata": {},
   "outputs": [],
   "source": [
    "df[\"Ind_Del_moy_Marque_vs_sect_glob\"] = df[\"Ind_Del_moy_Marque_vs_sect_glob\"].astype(\"float64\")\n",
    "df[\"Ind_Del_moy_Marque_vs_sect_moy\"] = df[\"Ind_Del_moy_Marque_vs_sect_moy\"].astype(\"float64\")\n",
    "df[\"Delais_moyen_Inter_achat_Marques\"] = df[\"Delais_moyen_Inter_achat_Marques\"].astype(\"float64\")"
   ]
  },
  {
   "cell_type": "code",
   "execution_count": 218,
   "metadata": {},
   "outputs": [],
   "source": [
    "df[\"age_marque\"] = (datetime.datetime.now() - df[\"DATE_Min_MARQUE\"]).apply(lambda d: d.days)"
   ]
  },
  {
   "cell_type": "code",
   "execution_count": 219,
   "metadata": {
    "scrolled": true
   },
   "outputs": [],
   "source": [
    "df = df.drop(\"DATE_Min_MARQUE\", axis=1)"
   ]
  },
  {
   "cell_type": "code",
   "execution_count": 244,
   "metadata": {
    "scrolled": true
   },
   "outputs": [],
   "source": [
    "for col in df.dtypes.keys():\n",
    "    if df.dtypes[col] not in [\"int64\", \"float64\"]:\n",
    "        print col"
   ]
  },
  {
   "cell_type": "code",
   "execution_count": 221,
   "metadata": {},
   "outputs": [],
   "source": [
    "for col in df[[\"Delais_moyen_Inter_achat_Marques\",\n",
    "\"Ind_Del_moy_Marque_vs_sect_glob\",\n",
    "\"Ind_Del_moy_Marque_vs_sect_moy\"]]:\n",
    "    df[col] = df[col].apply(lambda x: x if x != \"NS\" else np.nan)"
   ]
  },
  {
   "cell_type": "code",
   "execution_count": 250,
   "metadata": {},
   "outputs": [],
   "source": [
    "df.fillna(value={col:df[col].mean() for col in [\"Delais_moyen_Inter_achat_Marques\",\n",
    "\"Ind_Del_moy_Marque_vs_sect_glob\",\n",
    "\"Ind_Del_moy_Marque_vs_sect_moy\"]}).to_csv(\"./base_entrainement_input_mean\", encoding=\"utf-8\")"
   ]
  },
  {
   "cell_type": "code",
   "execution_count": 251,
   "metadata": {},
   "outputs": [],
   "source": [
    "df.fillna(value={col:df[col].median() for col in [\"Delais_moyen_Inter_achat_Marques\",\n",
    "\"Ind_Del_moy_Marque_vs_sect_glob\",\n",
    "\"Ind_Del_moy_Marque_vs_sect_moy\"]}).to_csv(\"./base_entrainement_input_median\", encoding=\"utf-8\")"
   ]
  },
  {
   "cell_type": "code",
   "execution_count": 252,
   "metadata": {},
   "outputs": [],
   "source": [
    "df.fillna(value={col:0 for col in [\"Delais_moyen_Inter_achat_Marques\",\n",
    "\"Ind_Del_moy_Marque_vs_sect_glob\",\n",
    "\"Ind_Del_moy_Marque_vs_sect_moy\"]}).to_csv(\"./base_entrainement_input_zeros\", encoding=\"utf-8\")"
   ]
  },
  {
   "cell_type": "code",
   "execution_count": 116,
   "metadata": {},
   "outputs": [],
   "source": [
    "col_nm1 = [col for col in df.columns if re.search( \"(.*)(Indice|N-1|Ind|delta|Delta)(.*)\",col) is not None]\n",
    "col_ind = [(n, col) for n, col in enumerate(col_nm1) if re.search( \"(.*)(Indice|Ind)(.*)\",col) is not None]\n",
    "col_delta = [(n, col) for n, col in enumerate(col_nm1) if re.search( \"(.*)(delta|Delta)(.*)\",col) is not None]\n",
    "\n",
    "col_n = [df.columns[max(0, n-1)] for n,col in enumerate(df.columns) if re.search( \"(.*)(Indice|N-1|Ind|delta|Delta)(.*)\",col) is not None]"
   ]
  },
  {
   "cell_type": "code",
   "execution_count": 117,
   "metadata": {},
   "outputs": [],
   "source": [
    "col_n = col_n[:-2]\n",
    "col_nm1 = col_nm1[:-2]\n",
    "col_ind = col_ind[:-2]"
   ]
  },
  {
   "cell_type": "code",
   "execution_count": 130,
   "metadata": {},
   "outputs": [],
   "source": [
    "df_n = df[col_n]\n",
    "df_nm1 = df[col_nm1]"
   ]
  },
  {
   "cell_type": "code",
   "execution_count": 83,
   "metadata": {},
   "outputs": [
    {
     "name": "stdout",
     "output_type": "stream",
     "text": [
      "(3082, 52)\n",
      "(3082, 52)\n"
     ]
    }
   ],
   "source": [
    "print df_n.shape\n",
    "print df_nm1.shape"
   ]
  },
  {
   "cell_type": "code",
   "execution_count": null,
   "metadata": {},
   "outputs": [],
   "source": []
  }
 ],
 "metadata": {
  "kernelspec": {
   "display_name": "Python 2",
   "language": "python",
   "name": "python2"
  },
  "language_info": {
   "codemirror_mode": {
    "name": "ipython",
    "version": 2
   },
   "file_extension": ".py",
   "mimetype": "text/x-python",
   "name": "python",
   "nbconvert_exporter": "python",
   "pygments_lexer": "ipython2",
   "version": "2.7.14"
  }
 },
 "nbformat": 4,
 "nbformat_minor": 2
}
